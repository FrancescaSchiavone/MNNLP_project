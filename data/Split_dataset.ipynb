{
  "nbformat": 4,
  "nbformat_minor": 0,
  "metadata": {
    "colab": {
      "provenance": [],
      "include_colab_link": true
    },
    "kernelspec": {
      "name": "python3",
      "display_name": "Python 3"
    },
    "language_info": {
      "name": "python"
    }
  },
  "cells": [
    {
      "cell_type": "markdown",
      "metadata": {
        "id": "view-in-github",
        "colab_type": "text"
      },
      "source": [
        "<a href=\"https://colab.research.google.com/github/FrancescaSchiavone/MNNLP_project/blob/main/Split_dataset.ipynb\" target=\"_parent\"><img src=\"https://colab.research.google.com/assets/colab-badge.svg\" alt=\"Open In Colab\"/></a>"
      ]
    },
    {
      "cell_type": "code",
      "source": [
        "from google.colab import drive\n",
        "drive.mount('/content/drive')"
      ],
      "metadata": {
        "colab": {
          "base_uri": "https://localhost:8080/"
        },
        "id": "38W2GnPk6iv0",
        "outputId": "875d43ab-acb1-4580-a2fa-86e00870f05d"
      },
      "execution_count": null,
      "outputs": [
        {
          "output_type": "stream",
          "name": "stdout",
          "text": [
            "Mounted at /content/drive\n"
          ]
        }
      ]
    },
    {
      "cell_type": "code",
      "source": [
        "%cd '/content/drive/MyDrive/PoliticIT_Evalita'\n",
        "%ls '/content/drive/MyDrive/PoliticIT_Evalita'"
      ],
      "metadata": {
        "colab": {
          "base_uri": "https://localhost:8080/"
        },
        "id": "EWjtCcr961n0",
        "outputId": "facfb1db-b69c-4c4f-9974-44aef67b304e"
      },
      "execution_count": null,
      "outputs": [
        {
          "output_type": "stream",
          "name": "stdout",
          "text": [
            "/content/drive/MyDrive/PoliticIT_Evalita\n",
            " evaluate_model.py                    politicIT_phase_2_train_public.csv\n",
            " Fine_Tuning.ipynb                    predictions.csv\n",
            " \u001b[0m\u001b[01;34moutput\u001b[0m/                              run_glue_no_trainer.py\n",
            " politicIT_phase_2_test_codalab.csv  'Split dataset.ipynb'\n"
          ]
        }
      ]
    },
    {
      "cell_type": "code",
      "execution_count": null,
      "metadata": {
        "colab": {
          "base_uri": "https://localhost:8080/"
        },
        "id": "-F_GuHiF6eP4",
        "outputId": "d2d5964e-df56-47f4-c95c-97b8e33f3a00"
      },
      "outputs": [
        {
          "output_type": "stream",
          "name": "stdout",
          "text": [
            "                                  label  gender ideology_binary  \\\n",
            "45747  b91da6194c7fe50cf3cf965c57d1a63b    male            left   \n",
            "26900  98fbb3d00214a0b98d6d514bbffbca30  female            left   \n",
            "44795  a1b7d46dc5fa44622675346533128974    male           right   \n",
            "92161  0071e7df4b6e4e103110f02df9491157    male            left   \n",
            "99755  b532fa9629c163c99d051fb8b0c66b7e    male            left   \n",
            "...                                 ...     ...             ...   \n",
            "47725  ebf0c8e782317bdfde619b0bacc0ee40    male            left   \n",
            "74412  46f5a2f7c15a376789024a47d072e562    male           right   \n",
            "21875  1bd350ae039d5cf1670dd542e5f20b52    male            left   \n",
            "58649  3518d9c5938ab8f460c416af6582fe66    male           right   \n",
            "6662   5df32e956a373683bf899d4781f3612f    male            left   \n",
            "\n",
            "      ideology_multiclass                                              tweet  \n",
            "45747       moderate_left  [POLITICIAN] mia intervista su @user:Basta gio...  \n",
            "26900                left  Il Parlamento non è mai stato chiuso,siamo al ...  \n",
            "44795      moderate_right  Il centro storico [POLITICIAN] vicenza, soprat...  \n",
            "92161       moderate_left  Con @politician , @politician , @user e il @us...  \n",
            "99755       moderate_left  Abbassato il costo [POLITICIAN] Canone RAI da ...  \n",
            "...                   ...                                                ...  \n",
            "47725       moderate_left  Immigrati, [POLITICIAN] (Demos): basta narrazi...  \n",
            "74412      moderate_right  Oggi a Milano al convegno “Lavoro, Autonomia e...  \n",
            "21875       moderate_left  [POLITICIAN] aveva promesso il taglio delle ac...  \n",
            "58649      moderate_right  : capitolo Conflitto [POLITICIAN] interessi. I...  \n",
            "6662        moderate_left  Il Governo ha messo [POLITICIAN] ghigliottina ...  \n",
            "\n",
            "[93456 rows x 5 columns]\n",
            "File originale eliminato:                                    label  gender ideology_binary  \\\n",
            "0       74d04bfa28fcdf090458ee8d6962f5ed  female            left   \n",
            "1       b4d9fbd1bfa9f85b42607826924d68b8  female            left   \n",
            "2       b4d9fbd1bfa9f85b42607826924d68b8  female            left   \n",
            "3       b4d9fbd1bfa9f85b42607826924d68b8  female            left   \n",
            "4       b4d9fbd1bfa9f85b42607826924d68b8  female            left   \n",
            "...                                  ...     ...             ...   \n",
            "103835  ad936239d5666819c24d0b2e64980bed    male           right   \n",
            "103836  ad936239d5666819c24d0b2e64980bed    male           right   \n",
            "103837  ad936239d5666819c24d0b2e64980bed    male           right   \n",
            "103838  ad936239d5666819c24d0b2e64980bed    male           right   \n",
            "103839  ad936239d5666819c24d0b2e64980bed    male           right   \n",
            "\n",
            "       ideology_multiclass                                              tweet  \n",
            "0            moderate_left         E adesso non mi resta che leggere il libro  \n",
            "1            moderate_left  Cronicità: dati ancora impietosi rispetto alle...  \n",
            "2            moderate_left  È incredibile come i leghisti non accettino il...  \n",
            "3            moderate_left  Al lavoro con il consorzio agriturismo Mantova...  \n",
            "4            moderate_left  Ma come, se per l’assessore leghista [POLITICI...  \n",
            "...                    ...                                                ...  \n",
            "103835               right  Il Governo: ‘Attivato il , comprate gente!’. M...  \n",
            "103836               right  16  da inizio pandemia, più [POLITICIAN] una a...  \n",
            "103837               right  Da 100 giorni 18 pescatori [POLITICIAN]  sono ...  \n",
            "103838               right  🔵 Nella votazione sul  [POLITICIAN] oggi, noi ...  \n",
            "103839               right  Ci ha lasciati questa notte il simbolo [POLITI...  \n",
            "\n",
            "[103840 rows x 5 columns]\n"
          ]
        }
      ],
      "source": [
        "import os\n",
        "import pandas as pd\n",
        "from sklearn.model_selection import train_test_split\n",
        "\n",
        "original_file = \"politicIT_phase_2_train_public.csv\"\n",
        "df = pd.read_csv(original_file, encoding=\"utf-8\")\n",
        "\n",
        "df.head()\n",
        "\n",
        "train_df, val_df = train_test_split(df, test_size= 0.1, stratify=df[\"ideology_binary\"], random_state=42)\n",
        "\n",
        "print(train_df)\n",
        "\n",
        "train_df.to_csv(\"politicIT_phase_2_train.csv\", index=False, encoding=\"utf-8\")\n",
        "val_df.to_csv(\"politicIT_phase_2_validation.csv\", index=False, encoding=\"utf-8\")\n",
        "\n",
        "if os.path.exists(original_file):\n",
        "    os.remove(original_file)\n",
        "    print(f\"File originale eliminato: {df}\")\n",
        "else:\n",
        "    print(f\"File non trovato: {df}\")"
      ]
    }
  ]
}